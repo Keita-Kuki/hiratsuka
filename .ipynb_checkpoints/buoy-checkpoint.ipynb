{
 "cells": [
  {
   "cell_type": "code",
   "execution_count": 1,
   "metadata": {
    "collapsed": true
   },
   "outputs": [],
   "source": [
    "# from keras.utils import np_utils, plot_model\n",
    "\n",
    "# from sklearn.model_selection import train_test_split\n",
    "# from sklearn.metrics import mean_squared_error\n",
    "\n",
    "# from keras.utils.vis_utils import model_to_dot\n",
    "# from IPython.display import SVG\n",
    "\n",
    "import numpy as np\n",
    "import pandas as pd\n",
    "\n",
    "from datetime import datetime,timedelta\n",
    "import matplotlib.pyplot as plt"
   ]
  },
  {
   "cell_type": "code",
   "execution_count": 33,
   "metadata": {},
   "outputs": [],
   "source": [
    "df = pd.read_csv(\"../data/buoy/sagami3rd.csv\", header=0)\n",
    "df.columns = [\"time\", \"tmp\"]\n",
    "df[\"time\"] = pd.to_datetime(df[\"time\"])\n",
    "# 2->１時間ごとに変換\n",
    "_df = pd.DataFrame()\n",
    "\n",
    "_df[\"time\"] =  pd.date_range('2012-07-07 12:00:00'.format(year), periods=df.shape[0]*2 ,freq='1h')\n",
    "df = pd.merge(_df, df, on=\"time\",how='left')\n",
    "\n",
    "# data = pd.DataFrame(columns=_df.columns)\n",
    "# for year in range(2013, 2017+1):\n",
    "#     start = datetime(year,7,1,0,0,0)\n",
    "#     end = datetime(year,9,1,0,0,0)\n",
    "#     print(_df.query('time >= \\\"{0}\\\" & time < \\\"{1}\\\"'.format(start, end)))\n",
    "#     data = pd.concat([data, df])\n"
   ]
  },
  {
   "cell_type": "code",
   "execution_count": 51,
   "metadata": {
    "scrolled": true
   },
   "outputs": [
    {
     "data": {
      "text/plain": [
       "Timedelta('1843 days 23:00:00')"
      ]
     },
     "execution_count": 51,
     "metadata": {},
     "output_type": "execute_result"
    }
   ],
   "source": [
    "(df.iloc[-1][\"time\"]-df.iloc[0][\"time\"])"
   ]
  },
  {
   "cell_type": "code",
   "execution_count": null,
   "metadata": {
    "collapsed": true
   },
   "outputs": [],
   "source": []
  }
 ],
 "metadata": {
  "kernelspec": {
   "display_name": "Python 3",
   "language": "python",
   "name": "python3"
  },
  "language_info": {
   "codemirror_mode": {
    "name": "ipython",
    "version": 3
   },
   "file_extension": ".py",
   "mimetype": "text/x-python",
   "name": "python",
   "nbconvert_exporter": "python",
   "pygments_lexer": "ipython3",
   "version": "3.6.1"
  }
 },
 "nbformat": 4,
 "nbformat_minor": 2
}
