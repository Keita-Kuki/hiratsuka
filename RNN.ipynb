{
 "cells": [
  {
   "cell_type": "code",
   "execution_count": 72,
   "metadata": {},
   "outputs": [],
   "source": [
    "import keras\n",
    "\n",
    "from keras.models import Model\n",
    "from keras.models import Sequential\n",
    "\n",
    "from keras.layers.recurrent import LSTM\n",
    "\n",
    "from keras.layers import Conv1D, MaxPool1D, Flatten, Input\n",
    "from keras.layers.core import Dense, Dropout, Activation\n",
    "from keras.utils import np_utils\n",
    "from keras.utils import plot_model\n",
    "\n",
    "from sklearn.model_selection import train_test_split\n",
    "\n",
    "import numpy as np\n",
    "import MySQLdb"
   ]
  },
  {
   "cell_type": "code",
   "execution_count": 2,
   "metadata": {
    "collapsed": true
   },
   "outputs": [],
   "source": [
    "conn = MySQLdb.connect(\n",
    "    user='sequel',\n",
    "    passwd='seQuel9_',\n",
    "    host='localhost',\n",
    "    db='coincheck'\n",
    ")\n",
    "\n",
    "c = conn.cursor()"
   ]
  },
  {
   "cell_type": "code",
   "execution_count": 186,
   "metadata": {
    "collapsed": true
   },
   "outputs": [],
   "source": [
    "query = '''\n",
    "SELECT\n",
    "\n",
    "ask.ask64,\n",
    "ask.ask63,\n",
    "ask.ask62,\n",
    "ask.ask61,\n",
    "ask.ask60,\n",
    "ask.ask59,\n",
    "ask.ask58,\n",
    "ask.ask57,\n",
    "ask.ask56,\n",
    "ask.ask55,\n",
    "ask.ask54,\n",
    "ask.ask53,\n",
    "ask.ask52,\n",
    "ask.ask51,\n",
    "ask.ask50,\n",
    "ask.ask49,\n",
    "ask.ask48,\n",
    "ask.ask47,\n",
    "ask.ask46,\n",
    "ask.ask45,\n",
    "ask.ask44,\n",
    "ask.ask43,\n",
    "ask.ask42,\n",
    "ask.ask41,\n",
    "ask.ask40,\n",
    "ask.ask39,\n",
    "ask.ask38,\n",
    "ask.ask37,\n",
    "ask.ask36,\n",
    "ask.ask35,\n",
    "ask.ask34,\n",
    "ask.ask33,\n",
    "ask.ask32,\n",
    "ask.ask31,\n",
    "ask.ask30,\n",
    "ask.ask29,\n",
    "ask.ask28,\n",
    "ask.ask27,\n",
    "ask.ask26,\n",
    "ask.ask25,\n",
    "ask.ask24,\n",
    "ask.ask23,\n",
    "ask.ask22,\n",
    "ask.ask21,\n",
    "ask.ask20,\n",
    "ask.ask19,\n",
    "ask.ask18,\n",
    "ask.ask17,\n",
    "ask.ask16,\n",
    "ask.ask15,\n",
    "ask.ask14,\n",
    "ask.ask13,\n",
    "ask.ask12,\n",
    "ask.ask11,\n",
    "ask.ask10,\n",
    "ask.ask9,\n",
    "ask.ask8,\n",
    "ask.ask7,\n",
    "ask.ask6,\n",
    "ask.ask5,\n",
    "ask.ask4,\n",
    "ask.ask3,\n",
    "ask.ask2,\n",
    "ask.ask1,\n",
    "ask.ask0,\n",
    "\n",
    "bid.bid0,\n",
    "bid.bid1,\n",
    "bid.bid2,\n",
    "bid.bid3,\n",
    "bid.bid4,\n",
    "bid.bid5,\n",
    "bid.bid6,\n",
    "bid.bid7,\n",
    "bid.bid8,\n",
    "bid.bid9,\n",
    "bid.bid10,\n",
    "bid.bid11,\n",
    "bid.bid12,\n",
    "bid.bid13,\n",
    "bid.bid14,\n",
    "bid.bid15,\n",
    "bid.bid16,\n",
    "bid.bid17,\n",
    "bid.bid18,\n",
    "bid.bid19,\n",
    "bid.bid20,\n",
    "bid.bid21,\n",
    "bid.bid22,\n",
    "bid.bid23,\n",
    "bid.bid24,\n",
    "bid.bid25,\n",
    "bid.bid26,\n",
    "bid.bid27,\n",
    "bid.bid28,\n",
    "bid.bid29,\n",
    "bid.bid30,\n",
    "bid.bid31,\n",
    "bid.bid32,\n",
    "bid.bid33,\n",
    "bid.bid34,\n",
    "bid.bid35,\n",
    "bid.bid36,\n",
    "bid.bid37,\n",
    "bid.bid38,\n",
    "bid.bid39,\n",
    "bid.bid40,\n",
    "bid.bid41,\n",
    "bid.bid42,\n",
    "bid.bid43,\n",
    "bid.bid44,\n",
    "bid.bid45,\n",
    "bid.bid46,\n",
    "bid.bid47,\n",
    "bid.bid48,\n",
    "bid.bid49,\n",
    "bid.bid50,\n",
    "bid.bid51,\n",
    "bid.bid52,\n",
    "bid.bid53,\n",
    "bid.bid54,\n",
    "bid.bid55,\n",
    "bid.bid56,\n",
    "bid.bid57,\n",
    "bid.bid58,\n",
    "bid.bid59,\n",
    "bid.bid60,\n",
    "bid.bid61,\n",
    "bid.bid62,\n",
    "bid.bid63,\n",
    "bid.bid64\n",
    "\n",
    "FROM array_asks AS ask\n",
    "\tLEFT JOIN array_bids AS bid\n",
    "\tON ask.datetime = bid.datetime\n",
    "\tLEFT JOIN reg_data AS d\n",
    "\tON ask.datetime = d.datetime\n",
    "\n",
    "WHERE bid.datetime IS NOT NULL\n",
    "\tAND d.later_1m_class IS NOT NULL\n",
    "    \n",
    "ORDER BY ask.datetime \n",
    "'''\n",
    "c.execute(query)\n",
    "x = c.fetchall()"
   ]
  },
  {
   "cell_type": "code",
   "execution_count": 187,
   "metadata": {
    "collapsed": true
   },
   "outputs": [],
   "source": [
    "query = '''\n",
    "SELECT\n",
    "d.later_1m_class\n",
    "\n",
    "FROM array_asks AS ask\n",
    "\tLEFT JOIN array_bids AS bid\n",
    "\tON ask.datetime = bid.datetime\n",
    "\tLEFT JOIN reg_data AS d\n",
    "\tON ask.datetime = d.datetime\n",
    "\n",
    "WHERE bid.datetime IS NOT NULL\n",
    "\tAND d.later_1m_class IS NOT NULL\n",
    "    \n",
    "ORDER BY ask.datetime \n",
    "'''\n",
    "c.execute(query)\n",
    "y = c.fetchall()"
   ]
  },
  {
   "cell_type": "code",
   "execution_count": 225,
   "metadata": {},
   "outputs": [
    {
     "name": "stdout",
     "output_type": "stream",
     "text": [
      "(30207, 130) (30207, 3)\n"
     ]
    }
   ],
   "source": [
    "X = np.array(x)\n",
    "Y = np.array(y)\n",
    "Y = np_utils.to_categorical(Y, 3)\n",
    "print(X.shape, Y.shape)"
   ]
  },
  {
   "cell_type": "code",
   "execution_count": 226,
   "metadata": {},
   "outputs": [
    {
     "name": "stdout",
     "output_type": "stream",
     "text": [
      "(30190, 130) (30190, 3)\n"
     ]
    }
   ],
   "source": [
    "X = np.delete(X, range(0,17), 0)\n",
    "Y = np.delete(Y, range(0,17), 0)\n",
    "print(X.shape, Y.shape)"
   ]
  },
  {
   "cell_type": "code",
   "execution_count": 232,
   "metadata": {},
   "outputs": [
    {
     "name": "stdout",
     "output_type": "stream",
     "text": [
      "(15090, 20, 130) (15090, 20, 3)\n"
     ]
    }
   ],
   "source": [
    "last = X.shape[0] - 1\n",
    "data_num = 1509\n",
    "step = 20\n",
    "\n",
    "indexes = [[0,1,2,3,4,5,6,7,8,last],\n",
    "           [0,1,2,3,4,5,6,7,last-1, last],\n",
    "           [0,1,2,3,4,5,6,last-2,last-1, last],\n",
    "           [0,1,2,3,4,5,last-3,last-2,last-1, last],\n",
    "           [0,1,2,3,4,last-4,last-3,last-2,last-1, last],\n",
    "           [0,1,2,3,last-5,last-4,last-3,last-2,last-1, last],\n",
    "           [0,1,2,last-6,last-5,last-4,last-3,last-2,last-1, last],\n",
    "           [0,1,last-7,last-6,last-5,last-4,last-3,last-2,last-1, last],\n",
    "           [0,last-8,last-7,last-6,last-5,last-4,last-3,last-2,last-1, last]]\n",
    "\n",
    "reg_x = np.delete(X, [0,1,2,3,4,5,6,7,8,9], 0)\n",
    "reg_y = np.delete(Y, [0,1,2,3,4,5,6,7,8,9], 0)\n",
    "\n",
    "reg_x = step_x.reshape(data_num, step, 130)\n",
    "reg_y = step_y.reshape(data_num, step, 3)\n",
    "\n",
    "\n",
    "for index in indexes:\n",
    "    step_x = np.delete(X, index, 0)\n",
    "    step_y = np.delete(Y, index, 0)\n",
    "\n",
    "    step_x = step_x.reshape(data_num, step, 130)\n",
    "    step_y = step_y.reshape(data_num, step, 3)\n",
    "    \n",
    "    reg_x = np.concatenate([reg_x, step_x], 0)\n",
    "    reg_y = np.concatenate([reg_y, step_y], 0)\n",
    "print(reg_x.shape, reg_y.shape)"
   ]
  },
  {
   "cell_type": "code",
   "execution_count": 233,
   "metadata": {},
   "outputs": [
    {
     "name": "stdout",
     "output_type": "stream",
     "text": [
      "(12072, 20, 130) (3018, 20, 130) (12072, 20, 3) (3018, 20, 3)\n"
     ]
    }
   ],
   "source": [
    "train_X, test_X, train_Y, test_Y = train_test_split(reg_x, reg_y, train_size=0.8)\n",
    "print(train_X.shape, test_X.shape, train_Y.shape, test_Y.shape)"
   ]
  },
  {
   "cell_type": "code",
   "execution_count": 240,
   "metadata": {
    "scrolled": true
   },
   "outputs": [
    {
     "name": "stdout",
     "output_type": "stream",
     "text": [
      "_________________________________________________________________\n",
      "Layer (type)                 Output Shape              Param #   \n",
      "=================================================================\n",
      "lstm_25 (LSTM)               (None, 64)                49920     \n",
      "_________________________________________________________________\n",
      "dense_29 (Dense)             (None, 3)                 195       \n",
      "_________________________________________________________________\n",
      "activation_25 (Activation)   (None, 3)                 0         \n",
      "=================================================================\n",
      "Total params: 50,115\n",
      "Trainable params: 50,115\n",
      "Non-trainable params: 0\n",
      "_________________________________________________________________\n"
     ]
    }
   ],
   "source": [
    "model = Sequential()\n",
    "model.add(LSTM(64,\n",
    "               batch_input_shape=(None, step, 130),\n",
    "               unroll = True,\n",
    "               implementation = 0,\n",
    "               dropout = 0.5\n",
    "              ))\n",
    "model.add(Dense(3))\n",
    "model.add(Activation(\"softmax\"))\n",
    "model.compile(loss=\"mean_squared_error\", optimizer='adam', metrics=[\"accuracy\"])\n",
    "model.summary()"
   ]
  },
  {
   "cell_type": "code",
   "execution_count": 242,
   "metadata": {
    "scrolled": false
   },
   "outputs": [
    {
     "name": "stdout",
     "output_type": "stream",
     "text": [
      "Epoch 1/3\n",
      "12072/12072 [==============================] - 27s - loss: 0.2310 - acc: 0.3641    \n",
      "Epoch 2/3\n",
      "12072/12072 [==============================] - 19s - loss: 0.2204 - acc: 0.3955    \n",
      "Epoch 3/3\n",
      "12072/12072 [==============================] - 19s - loss: 0.2180 - acc: 0.4032    \n"
     ]
    },
    {
     "data": {
      "text/plain": [
       "<keras.callbacks.History at 0x19a1110f0>"
      ]
     },
     "execution_count": 242,
     "metadata": {},
     "output_type": "execute_result"
    }
   ],
   "source": [
    "model.fit(train_X, train_Y[:, step-1], epochs = 3)"
   ]
  },
  {
   "cell_type": "code",
   "execution_count": 243,
   "metadata": {},
   "outputs": [
    {
     "name": "stdout",
     "output_type": "stream",
     "text": [
      "Accuracy = 0.40\n"
     ]
    }
   ],
   "source": [
    "loss, accuracy = model.evaluate(test_X, test_Y[:, step-1], verbose=0)\n",
    "print(\"Accuracy = {:.2f}\".format(accuracy))"
   ]
  },
  {
   "cell_type": "code",
   "execution_count": null,
   "metadata": {
    "collapsed": true
   },
   "outputs": [],
   "source": []
  }
 ],
 "metadata": {
  "kernelspec": {
   "display_name": "Python 3",
   "language": "python",
   "name": "python3"
  },
  "language_info": {
   "codemirror_mode": {
    "name": "ipython",
    "version": 3
   },
   "file_extension": ".py",
   "mimetype": "text/x-python",
   "name": "python",
   "nbconvert_exporter": "python",
   "pygments_lexer": "ipython3",
   "version": "3.6.1"
  }
 },
 "nbformat": 4,
 "nbformat_minor": 2
}
